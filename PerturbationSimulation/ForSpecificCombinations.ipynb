{
 "cells": [
  {
   "cell_type": "code",
   "execution_count": 1,
   "id": "5366569a-d1d3-4fb6-9f70-c1cdf429f113",
   "metadata": {},
   "outputs": [
    {
     "name": "stderr",
     "output_type": "stream",
     "text": [
      "/u/tanwi/.conda/envs/scrna_scenicplus/lib/python3.9/site-packages/loompy/bus_file.py:68: NumbaDeprecationWarning: The 'nopython' keyword argument was not supplied to the 'numba.jit' decorator. The implicit default value for this argument is currently False, but it will be changed to True in Numba 0.59.0. See https://numba.readthedocs.io/en/stable/reference/deprecation.html#deprecation-of-object-mode-fall-back-behaviour-when-using-jit for details.\n",
      "  def twobit_to_dna(twobit: int, size: int) -> str:\n",
      "/u/tanwi/.conda/envs/scrna_scenicplus/lib/python3.9/site-packages/loompy/bus_file.py:85: NumbaDeprecationWarning: The 'nopython' keyword argument was not supplied to the 'numba.jit' decorator. The implicit default value for this argument is currently False, but it will be changed to True in Numba 0.59.0. See https://numba.readthedocs.io/en/stable/reference/deprecation.html#deprecation-of-object-mode-fall-back-behaviour-when-using-jit for details.\n",
      "  def dna_to_twobit(dna: str) -> int:\n",
      "/u/tanwi/.conda/envs/scrna_scenicplus/lib/python3.9/site-packages/loompy/bus_file.py:102: NumbaDeprecationWarning: The 'nopython' keyword argument was not supplied to the 'numba.jit' decorator. The implicit default value for this argument is currently False, but it will be changed to True in Numba 0.59.0. See https://numba.readthedocs.io/en/stable/reference/deprecation.html#deprecation-of-object-mode-fall-back-behaviour-when-using-jit for details.\n",
      "  def twobit_1hamming(twobit: int, size: int) -> List[int]:\n",
      "IProgress not found. Please update jupyter and ipywidgets. See https://ipywidgets.readthedocs.io/en/stable/user_install.html\n"
     ]
    }
   ],
   "source": [
    "# import dependencies\n",
    "import os\n",
    "import numpy as np\n",
    "import pandas as pd\n",
    "import scanpy as sc\n",
    "import loompy as lp\n",
    "import pickle\n",
    "import seaborn as sns\n",
    "import matplotlib.pyplot as plt\n",
    "import math\n",
    "from sklearn.preprocessing import StandardScaler\n",
    "from sklearn import ensemble\n",
    "from sklearn.ensemble import RandomForestRegressor\n",
    "from sklearn.metrics import mean_squared_error\n",
    "from sklearn.model_selection import train_test_split\n",
    "from itertools import combinations \n",
    "import pickle\n",
    "import shap\n",
    "\n",
    "\n",
    "adata_louvain_path = \"/dccstor/bmfm-targets/users/tanwi/research_data/TIL_DataAnalysis/TF_adata_PRF1_cd8_PRDM1_knockedout.h5ad\"\n",
    "TF_adata_PRF1_cd8 = sc.read_h5ad(adata_louvain_path)\n",
    "\n",
    "\n",
    "saved_model_name = \"/dccstor/bmfm-targets/users/tanwi/research_data/TIL_DataAnalysis/GBR_TFtoPRF1_allCells_ZNF354C.sav\"\n",
    "#Checking saved model\n",
    "loaded_model = pickle.load(open(saved_model_name, 'rb'))"
   ]
  },
  {
   "cell_type": "code",
   "execution_count": 2,
   "id": "89fc668e-6eaa-4749-bec0-a04962a265bc",
   "metadata": {},
   "outputs": [
    {
     "data": {
      "text/plain": [
       "AnnData object with n_obs × n_vars = 109388 × 1696\n",
       "    obs: 'cancerType', 'patient', 'libraryID', 'loc', 'meta.cluster', 'platform', 'batch', 'n_genes', 'n_genes_by_counts', 'total_counts', 'total_counts_mt', 'pct_counts_mt', 'louvain', 'target_gene'\n",
       "    var: 'n_cells', 'mt', 'n_cells_by_counts', 'mean_counts', 'pct_dropout_by_counts', 'total_counts'\n",
       "    uns: 'log1p', 'pca'\n",
       "    obsm: 'X_pca'\n",
       "    varm: 'PCs'"
      ]
     },
     "execution_count": 2,
     "metadata": {},
     "output_type": "execute_result"
    }
   ],
   "source": [
    "TF_adata_PRF1_cd8"
   ]
  },
  {
   "cell_type": "code",
   "execution_count": 5,
   "id": "9142a7e7-0c91-4f59-b274-97368615a444",
   "metadata": {},
   "outputs": [
    {
     "name": "stdout",
     "output_type": "stream",
     "text": [
      "1.7143633918491075\n"
     ]
    }
   ],
   "source": [
    "mean_target, perturbed_prediction = Gene_Perturbation_Simultaneous(TF_adata_PRF1_cd8, geneP=geneList, \n",
    "                                                                           direction= direction, change_value=\"None\")\n",
    "print(perturbed_prediction)"
   ]
  },
  {
   "cell_type": "code",
   "execution_count": null,
   "id": "48240279-1dbe-4bfd-86be-e8f821fe0020",
   "metadata": {},
   "outputs": [],
   "source": []
  }
 ],
 "metadata": {
  "kernelspec": {
   "display_name": "Python 3 (ipykernel)",
   "language": "python",
   "name": "python3"
  },
  "language_info": {
   "codemirror_mode": {
    "name": "ipython",
    "version": 3
   },
   "file_extension": ".py",
   "mimetype": "text/x-python",
   "name": "python",
   "nbconvert_exporter": "python",
   "pygments_lexer": "ipython3",
   "version": "3.9.18"
  }
 },
 "nbformat": 4,
 "nbformat_minor": 5
}
